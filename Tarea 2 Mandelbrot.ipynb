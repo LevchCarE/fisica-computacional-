{
 "cells": [
  {
   "cell_type": "markdown",
   "metadata": {},
   "source": [
    "### Images\n",
    "\n",
    "En los siguientes ejercicios haremos el fractal de Julia y Mandelbrot.\n",
    "\n",
    "[17] Considera el mapeo cuadrático $z_n = z_{n-1}^2 + c$, donde $z_n$ y $c$ son números complejos. Demuestra que el mapeo no converge si $|z_n|>2$ para algún valor de $n$. "
   ]
  },
  {
   "cell_type": "markdown",
   "metadata": {},
   "source": [
    "R."
   ]
  },
  {
   "cell_type": "markdown",
   "metadata": {},
   "source": [
    "[18] Haz una función que dado $c$, $z_0$ y $n$ arroje $true$ y $|z_n|$ si ningún valor de $|z_i|$ con $i\\le n$ es mayor que 2 y false y $n-i+1$ si $|z_i|$ es el primer valor mayor que 2. Si arroja false significa que la sucesión no converge. Si arroja true significa que \"posiblemente\" converje. $n-i+1$ es a cuantos pasos quedó de \"considerar que sí convergiera\". Es una medida qué tan lento se sale de la convergencia. $|z_n|$ en el caso de que se considere que converja, es aproximadamente a qué valor converge. "
   ]
  },
  {
   "cell_type": "code",
   "execution_count": 115,
   "metadata": {},
   "outputs": [
    {
     "data": {
      "text/plain": [
       "Mandelbrot (generic function with 2 methods)"
      ]
     },
     "execution_count": 115,
     "metadata": {},
     "output_type": "execute_result"
    }
   ],
   "source": [
    "function Mandelbrot(c::Complex{Float64},z0::Complex{Float64},n::Int64)\n",
    "    z = z0\n",
    "    for i in 1:n\n",
    "        z = z^2+c\n",
    "        if abs(z)>2\n",
    "            return n-i+1, false\n",
    "        end\n",
    "    end\n",
    "    return abs(z), true\n",
    "end\n"
   ]
  },
  {
   "cell_type": "markdown",
   "metadata": {},
   "source": [
    "[19] Fractal de Mandelbrot. Los números complejos se pueden expresar en el plano (plano complejo), donde la parte imaginaria es el eje $y$ y la parte real es el  eje $x$. Considera $z_0 = 0$. Queremos saber qué valores de $c$ forman una suscesión que converge. Utilizando la paquetería Images (y el truco para convertir coordenadas en pixeles), haz una función que dibuje en negro todos los valores de $c$ que \"convergen\" (para n = 100, por ejemplo) y en una escala de colores basada en $n-i+1$, que sea más oscura entre más cerca esté de $0$ que dibuje los puntos que no convergen. \n",
    "\n",
    "**Nota:** Una imagen de $1600\\times 1600$ es bastante razonable (no sobre pases los 20Mpx). Y recuerda que como $z_1 = c$, $|c|<2$ (un $|c|>2$ sabemos que generará una suscesión que no converge), por lo tanto el máximo en los límites que vale la pena dibujar es el $-2<x<2$ y $-2<y<2$ (lo que llamé cajax y cajay en el video tendrían que ser $[-2,2]$ y $[-2,2]$). Para los colores, ver Nota2 del siguiente ejercicio. "
   ]
  },
  {
   "cell_type": "code",
   "execution_count": 59,
   "metadata": {},
   "outputs": [
    {
     "name": "stderr",
     "output_type": "stream",
     "text": [
      "\u001b[32m\u001b[1m   Updating\u001b[22m\u001b[39m registry at `C:\\Users\\kner4\\.julia\\registries\\General`\n",
      "\u001b[32m\u001b[1m  Resolving\u001b[22m\u001b[39m package versions...\n",
      "\u001b[32m\u001b[1mNo Changes\u001b[22m\u001b[39m to `C:\\Users\\kner4\\.julia\\environments\\v1.5\\Project.toml`\n",
      "\u001b[32m\u001b[1mNo Changes\u001b[22m\u001b[39m to `C:\\Users\\kner4\\.julia\\environments\\v1.5\\Manifest.toml`\n",
      "\u001b[32m\u001b[1m  Resolving\u001b[22m\u001b[39m package versions...\n",
      "\u001b[32m\u001b[1mNo Changes\u001b[22m\u001b[39m to `C:\\Users\\kner4\\.julia\\environments\\v1.5\\Project.toml`\n",
      "\u001b[32m\u001b[1mNo Changes\u001b[22m\u001b[39m to `C:\\Users\\kner4\\.julia\\environments\\v1.5\\Manifest.toml`\n",
      "\u001b[32m\u001b[1m  Resolving\u001b[22m\u001b[39m package versions...\n",
      "\u001b[32m\u001b[1mNo Changes\u001b[22m\u001b[39m to `C:\\Users\\kner4\\.julia\\environments\\v1.5\\Project.toml`\n",
      "\u001b[32m\u001b[1mNo Changes\u001b[22m\u001b[39m to `C:\\Users\\kner4\\.julia\\environments\\v1.5\\Manifest.toml`\n",
      "\u001b[32m\u001b[1m  Resolving\u001b[22m\u001b[39m package versions...\n",
      "\u001b[32m\u001b[1mNo Changes\u001b[22m\u001b[39m to `C:\\Users\\kner4\\.julia\\environments\\v1.5\\Project.toml`\n",
      "\u001b[32m\u001b[1mNo Changes\u001b[22m\u001b[39m to `C:\\Users\\kner4\\.julia\\environments\\v1.5\\Manifest.toml`\n",
      "\u001b[32m\u001b[1m  Resolving\u001b[22m\u001b[39m package versions...\n",
      "\u001b[32m\u001b[1mNo Changes\u001b[22m\u001b[39m to `C:\\Users\\kner4\\.julia\\environments\\v1.5\\Project.toml`\n",
      "\u001b[32m\u001b[1mNo Changes\u001b[22m\u001b[39m to `C:\\Users\\kner4\\.julia\\environments\\v1.5\\Manifest.toml`\n",
      "\u001b[32m\u001b[1m  Resolving\u001b[22m\u001b[39m package versions...\n",
      "\u001b[32m\u001b[1mNo Changes\u001b[22m\u001b[39m to `C:\\Users\\kner4\\.julia\\environments\\v1.5\\Project.toml`\n",
      "\u001b[32m\u001b[1mNo Changes\u001b[22m\u001b[39m to `C:\\Users\\kner4\\.julia\\environments\\v1.5\\Manifest.toml`\n"
     ]
    }
   ],
   "source": [
    "using Pkg\n",
    "Pkg.add(\"Images\")\n",
    "Pkg.add(\"ImageIO\")\n",
    "Pkg.add(\"ImageView\")\n",
    "Pkg.add(\"ColorSchemes\") \n",
    "Pkg.add(\"FileIO\")\n",
    "Pkg.add(\"ImageMagick\")"
   ]
  },
  {
   "cell_type": "code",
   "execution_count": 60,
   "metadata": {},
   "outputs": [],
   "source": [
    "using Images, ImageView, ImageIO, ImageMagick"
   ]
  },
  {
   "cell_type": "code",
   "execution_count": 1,
   "metadata": {},
   "outputs": [
    {
     "data": {
      "text/plain": [
       "ManC (generic function with 1 method)"
      ]
     },
     "execution_count": 1,
     "metadata": {},
     "output_type": "execute_result"
    }
   ],
   "source": [
    "function ManC(c::Complex{Float64},n::Int64)\n",
    "    z = 0+0im\n",
    "    for i in 1:n\n",
    "        z = z^2+c\n",
    "        if abs(z)>2\n",
    "            return (n-i+1)/n\n",
    "        end\n",
    "    end\n",
    "    return 0\n",
    "end\n"
   ]
  },
  {
   "cell_type": "code",
   "execution_count": 2,
   "metadata": {},
   "outputs": [
    {
     "ename": "LoadError",
     "evalue": "\u001b[91mUndefVarError: RGB not defined\u001b[39m",
     "output_type": "error",
     "traceback": [
      "\u001b[91mUndefVarError: RGB not defined\u001b[39m",
      "",
      "Stacktrace:",
      " [1] (::var\"#1#2\")(::Tuple{Int64,Int64}) at .\\none:0",
      " [2] iterate at .\\generator.jl:47 [inlined]",
      " [3] collect(::Base.Generator{Base.Iterators.ProductIterator{Tuple{UnitRange{Int64},UnitRange{Int64}}},var\"#1#2\"}) at .\\array.jl:686",
      " [4] top-level scope at In[2]:3",
      " [5] include_string(::Function, ::Module, ::String, ::String) at .\\loading.jl:1091"
     ]
    }
   ],
   "source": [
    "L = 1600\n",
    "n=100\n",
    "Imagen = [RGB(0,0,0) for i in 1:L, j in 1:L];\n",
    "for i in 1:L\n",
    "    for j in 1:L\n",
    "        if i==ceil(L/2)||j == ceil(L/2)\n",
    "            Imagen[j,i]=RGB(0,1,0)\n",
    "        elseif i%ceil(L/40)==0 && ceil(L/2)-L/200<j<ceil(L/2)+L/200\n",
    "            Imagen[j,i]=RGB(0,1,0)\n",
    "        elseif j%ceil(L/40)==0 && ceil(L/2)-L/200<i<ceil(L/2)+L/200\n",
    "            Imagen[j,i]=RGB(0,1,0)\n",
    "        else\n",
    "            Imagen[j,i]=RGB(ManC((-2+4*i/L) + (2-4*j/L)im,n)^2,ManC((-2+4*i/L) + (2-4*j/L)im,n)^3,ManC((-2+4*i/L) + (2-4*j/L)im,n)^4)\n",
    "    \n",
    "        end\n",
    "    end\n",
    "end\n",
    "Imagen"
   ]
  },
  {
   "cell_type": "markdown",
   "metadata": {},
   "source": [
    "[20] Fractal de Julia (el que puse en el video). Elige algún valor de $c$ que corresponda a las zonas \"negras\" del fractal de Mandelbrot. Entre más cercano a la frontera (sin estar sobre la frontera) mejor. El problema es casi idéntico al anterior, excepto que ahora lo que graficarás son los valores de $z_0$ (en vez de los valores de $c$) con los que la sucesión converge. \n",
    "\n",
    "Intenta graficar 3 versiones, (i) los que convergen sean negros y los que no que tengan un color dependiendo de $n-i+1$. (ii) Que los que no convergen sean negros y los que convergen tengan un color dependiendo de $|z_n|$. (iii) Que todos todos tengan un color, dependiendo de $n-i+1$ en el caso de los que no convergen y de $|z_n|$ en el caso de los que sí convergen. \n",
    "\n",
    "**Nota:** Te recomiendo jugar con tu programa y ver cómo se ve con diferentes valores de $n$ y con diferentes valores de $c$. Por supuesto eso no lo podemos calificar, pero seguramente vas a disfrutarlo y te va a interesar leer sobre el fractal de Julia (y su interesante historia). \n",
    "\n",
    "**Nota2:** Como sugerencia de colores, normaliza $n-i+1$ de tal forma que pueda tener valores entre 0 y 1, lo mismo para $|z_n|$ (es decir, divide entre $n$ y entre 2 respectivamente). Con la versión normalizada puedes hacer una ecuación lineal para el rojo, una cuadrática para el verde y una cúbica para el azul (las 3 funciones que vayan de 0 a 1 si su dominio es el intervalo [0,1]). "
   ]
  },
  {
   "cell_type": "code",
   "execution_count": 3,
   "metadata": {},
   "outputs": [
    {
     "data": {
      "text/plain": [
       "ManZ1 (generic function with 1 method)"
      ]
     },
     "execution_count": 3,
     "metadata": {},
     "output_type": "execute_result"
    }
   ],
   "source": [
    "function ManZ1(z::Complex{Float64},n::Int64)\n",
    "    c = -1.3 + 0.005im\n",
    "    for i in 1:n\n",
    "        z = z^2+c\n",
    "        if abs(z)>2\n",
    "            return (n-i+1)/n\n",
    "        end\n",
    "    end\n",
    "    return 0\n",
    "end\n"
   ]
  },
  {
   "cell_type": "code",
   "execution_count": 4,
   "metadata": {},
   "outputs": [
    {
     "ename": "LoadError",
     "evalue": "\u001b[91mUndefVarError: RGB not defined\u001b[39m",
     "output_type": "error",
     "traceback": [
      "\u001b[91mUndefVarError: RGB not defined\u001b[39m",
      "",
      "Stacktrace:",
      " [1] (::var\"#3#4\")(::Tuple{Int64,Int64}) at .\\none:0",
      " [2] iterate at .\\generator.jl:47 [inlined]",
      " [3] collect(::Base.Generator{Base.Iterators.ProductIterator{Tuple{UnitRange{Int64},UnitRange{Int64}}},var\"#3#4\"}) at .\\array.jl:686",
      " [4] top-level scope at In[4]:3",
      " [5] include_string(::Function, ::Module, ::String, ::String) at .\\loading.jl:1091"
     ]
    }
   ],
   "source": [
    "L = 1600\n",
    "n=100\n",
    "Imagen = [RGB(0,0,0) for i in 1:L, j in 1:L];\n",
    "for i in 1:L\n",
    "    for j in 1:L\n",
    "        if i==ceil(L/2)||j == ceil(L/2)\n",
    "            Imagen[j,i]=RGB(0,1,0)\n",
    "        elseif i%ceil(L/40)==0 && ceil(L/2)-L/200<j<ceil(L/2)+L/200\n",
    "            Imagen[j,i]=RGB(0,1,0)\n",
    "        elseif j%ceil(L/40)==0 && ceil(L/2)-L/200<i<ceil(L/2)+L/200\n",
    "            Imagen[j,i]=RGB(0,1,0)\n",
    "        else\n",
    "            Imagen[j,i]=RGB(ManZ1((-2+4*i/L) + (2-4*j/L)im,n)^2,ManZ1((-2+4*i/L) + (2-4*j/L)im,n)^3,ManZ1((-2+4*i/L) + (2-4*j/L)im,n)^4)\n",
    "    \n",
    "        end\n",
    "    end\n",
    "end\n",
    "Imagen"
   ]
  },
  {
   "cell_type": "code",
   "execution_count": 5,
   "metadata": {},
   "outputs": [
    {
     "data": {
      "text/plain": [
       "ManZ2 (generic function with 1 method)"
      ]
     },
     "execution_count": 5,
     "metadata": {},
     "output_type": "execute_result"
    }
   ],
   "source": [
    "function ManZ2(z::Complex{Float64},n::Int64)\n",
    "    c = -1.3 + 0.005im\n",
    "    for i in 1:n\n",
    "        z = z^2+c\n",
    "        if abs(z)>2\n",
    "            return 0\n",
    "        end\n",
    "    end\n",
    "    return abs(z)/2\n",
    "end"
   ]
  },
  {
   "cell_type": "code",
   "execution_count": 6,
   "metadata": {},
   "outputs": [
    {
     "ename": "LoadError",
     "evalue": "\u001b[91mUndefVarError: RGB not defined\u001b[39m",
     "output_type": "error",
     "traceback": [
      "\u001b[91mUndefVarError: RGB not defined\u001b[39m",
      "",
      "Stacktrace:",
      " [1] (::var\"#5#6\")(::Tuple{Int64,Int64}) at .\\none:0",
      " [2] iterate at .\\generator.jl:47 [inlined]",
      " [3] collect(::Base.Generator{Base.Iterators.ProductIterator{Tuple{UnitRange{Int64},UnitRange{Int64}}},var\"#5#6\"}) at .\\array.jl:686",
      " [4] top-level scope at In[6]:3",
      " [5] include_string(::Function, ::Module, ::String, ::String) at .\\loading.jl:1091"
     ]
    }
   ],
   "source": [
    "L = 1600\n",
    "n=100\n",
    "Imagen = [RGB(0,0,0) for i in 1:L, j in 1:L];\n",
    "for i in 1:L\n",
    "    for j in 1:L\n",
    "        if i==ceil(L/2)||j == ceil(L/2)\n",
    "            Imagen[j,i]=RGB(0,1,0)\n",
    "        elseif i%ceil(L/40)==0 && ceil(L/2)-L/200<j<ceil(L/2)+L/200\n",
    "            Imagen[j,i]=RGB(0,1,0)\n",
    "        elseif j%ceil(L/40)==0 && ceil(L/2)-L/200<i<ceil(L/2)+L/200\n",
    "            Imagen[j,i]=RGB(0,1,0)\n",
    "        else\n",
    "            Imagen[j,i]=RGB(ManZ2((-2+4*i/L) + (2-4*j/L)im,n),ManZ2((-2+4*i/L) + (2-4*j/L)im,n),ManZ2((-2+4*i/L) + (2-4*j/L)im,n))\n",
    "    \n",
    "        end\n",
    "    end\n",
    "end\n",
    "Imagen"
   ]
  },
  {
   "cell_type": "code",
   "execution_count": 7,
   "metadata": {},
   "outputs": [
    {
     "data": {
      "text/plain": [
       "ManZ3 (generic function with 1 method)"
      ]
     },
     "execution_count": 7,
     "metadata": {},
     "output_type": "execute_result"
    }
   ],
   "source": [
    "function ManZ3(z::Complex{Float64},n::Int64)\n",
    "    c = -1.3 + 0.005im\n",
    "    for i in 1:n\n",
    "        z = z^2+c\n",
    "        if abs(z)>2\n",
    "            return (0, (n-i+1)/n)\n",
    "        end\n",
    "    end\n",
    "    return (abs(z)/2,0)\n",
    "end"
   ]
  },
  {
   "cell_type": "code",
   "execution_count": 8,
   "metadata": {},
   "outputs": [
    {
     "ename": "LoadError",
     "evalue": "\u001b[91mUndefVarError: RGB not defined\u001b[39m",
     "output_type": "error",
     "traceback": [
      "\u001b[91mUndefVarError: RGB not defined\u001b[39m",
      "",
      "Stacktrace:",
      " [1] (::var\"#7#8\")(::Tuple{Int64,Int64}) at .\\none:0",
      " [2] iterate at .\\generator.jl:47 [inlined]",
      " [3] collect(::Base.Generator{Base.Iterators.ProductIterator{Tuple{UnitRange{Int64},UnitRange{Int64}}},var\"#7#8\"}) at .\\array.jl:686",
      " [4] top-level scope at In[8]:3",
      " [5] include_string(::Function, ::Module, ::String, ::String) at .\\loading.jl:1091"
     ]
    }
   ],
   "source": [
    "L = 1600\n",
    "n=100\n",
    "Imagen = [RGB(0,0,0) for i in 1:L, j in 1:L];\n",
    "for i in 1:L\n",
    "    for j in 1:L\n",
    "        if i==ceil(L/2)||j == ceil(L/2)\n",
    "            Imagen[j,i]=RGB(0,1,0)\n",
    "        elseif i%ceil(L/40)==0 && ceil(L/2)-L/200<j<ceil(L/2)+L/200\n",
    "            Imagen[j,i]=RGB(0,1,0)\n",
    "        elseif j%ceil(L/40)==0 && ceil(L/2)-L/200<i<ceil(L/2)+L/200\n",
    "            Imagen[j,i]=RGB(0,1,0)\n",
    "        else\n",
    "            Imagen[j,i]=RGB(ManZ3((-2+4*i/L) + (2-4*j/L)im,n)[1],(ManZ3((-2+4*i/L) + (2-4*j/L)im,n)[2])^4,(ManZ3((-2+4*i/L) + (2-4*j/L)im,n)[2]))    \n",
    "        end\n",
    "    end\n",
    "end\n",
    "Imagen"
   ]
  },
  {
   "cell_type": "code",
   "execution_count": null,
   "metadata": {},
   "outputs": [],
   "source": []
  },
  {
   "cell_type": "code",
   "execution_count": null,
   "metadata": {},
   "outputs": [],
   "source": []
  }
 ],
 "metadata": {
  "@webio": {
   "lastCommId": null,
   "lastKernelId": null
  },
  "kernelspec": {
   "display_name": "Julia 1.5.3",
   "language": "julia",
   "name": "julia-1.5"
  },
  "language_info": {
   "file_extension": ".jl",
   "mimetype": "application/julia",
   "name": "julia",
   "version": "1.5.3"
  }
 },
 "nbformat": 4,
 "nbformat_minor": 4
}
