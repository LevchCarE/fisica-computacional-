{
 "cells": [
  {
   "cell_type": "markdown",
   "metadata": {},
   "source": [
    "# Operaciones Básicas"
   ]
  },
  {
   "cell_type": "markdown",
   "metadata": {},
   "source": [
    "1. Obtén el producto punto y producto cruz entre los siguientes vectores: \n",
    "$\\vec{x_1} = (1,1,1)$ y $\\vec{x_2} = (-1,1,1)$\n",
    "\n",
    "(recuerda cargar la librería LinearAlgebra)"
   ]
  },
  {
   "cell_type": "code",
   "execution_count": 1,
   "metadata": {},
   "outputs": [],
   "source": [
    "using LinearAlgebra"
   ]
  },
  {
   "cell_type": "code",
   "execution_count": 2,
   "metadata": {},
   "outputs": [
    {
     "data": {
      "text/plain": [
       "3-element Array{Int64,1}:\n",
       " -1\n",
       "  1\n",
       "  1"
      ]
     },
     "execution_count": 2,
     "metadata": {},
     "output_type": "execute_result"
    }
   ],
   "source": [
    "x₁= [1,1,1] ; x₂= [-1,1,1]"
   ]
  },
  {
   "cell_type": "code",
   "execution_count": 3,
   "metadata": {},
   "outputs": [
    {
     "data": {
      "text/plain": [
       "1"
      ]
     },
     "execution_count": 3,
     "metadata": {},
     "output_type": "execute_result"
    }
   ],
   "source": [
    "x₁ ⋅ x₂"
   ]
  },
  {
   "cell_type": "code",
   "execution_count": 4,
   "metadata": {},
   "outputs": [
    {
     "data": {
      "text/plain": [
       "3-element Array{Int64,1}:\n",
       "  0\n",
       " -2\n",
       "  2"
      ]
     },
     "execution_count": 4,
     "metadata": {},
     "output_type": "execute_result"
    }
   ],
   "source": [
    "cross(x₁,x₂)"
   ]
  },
  {
   "cell_type": "markdown",
   "metadata": {},
   "source": [
    "2. Resuelve numéricamente el siguiente sistema de ecuaciones usando matrices:\n",
    "\n",
    "\\begin{equation}\n",
    "\\begin{array}{lcl} \n",
    "x_1+x_2+x_3+x_4+x_5 & = & 1.5 \\\\ \n",
    "x_1+x_2-x_3+x_4-x_5 & = & -1.5 \\\\\n",
    "2x_1-3x_2+4x_3-5x_4+6x_5 & = & 0 \\\\\n",
    "-x_1-x_2+3x_3+\\pi x_4+x_5 & = & \\sqrt(2) \\\\\n",
    "5x_1+4x_2+3x_3+2x_4+x_5 & = & \\pi \\\\\n",
    "\\end{array}\n",
    "\\end{equation}\n",
    "\n",
    "Es decir, escribe este sistema de ecuaciones en la forma matricial: $A\\vec{x} = \\vec{b}$ y obtén la solución como: $\\vec{x} = A^{-1}\\vec{b}$.\n"
   ]
  },
  {
   "cell_type": "code",
   "execution_count": 5,
   "metadata": {},
   "outputs": [
    {
     "data": {
      "text/plain": [
       "5-element Array{Float64,1}:\n",
       " -0.6366771544472749\n",
       " -0.24790895048436484\n",
       "  2.0237210089501727\n",
       "  0.8845861049316399\n",
       " -0.5237210089501733"
      ]
     },
     "execution_count": 5,
     "metadata": {},
     "output_type": "execute_result"
    }
   ],
   "source": [
    "\n",
    "A=[1 1 1 1 1;\n",
    "   1 1 -1 1 -1;\n",
    "   2 -3 4 -5 6;\n",
    "  -1 -1 4 -5 6; \n",
    "   5 4 3 2 1]\n",
    "\n",
    "b= [1.5, -1.5, 0, √(2), π]\n",
    "\n",
    "x=inv(A)*b\n"
   ]
  },
  {
   "cell_type": "markdown",
   "metadata": {},
   "source": [
    "# Notación compacta:"
   ]
  },
  {
   "cell_type": "markdown",
   "metadata": {},
   "source": [
    "Es casi el día de $\\pi$, así que haremos un par de problemas que tienen que ver con $\\pi$. Primero recordemos que $\\pi = \\frac{4}{1} - \\frac{4}{3} + \\frac{4}{5} -\\frac{4}{7} +\\dots$. \n",
    "\n",
    "3. Utiliza la notación compacta para escribir el conjunto de los primeros $n = 1,000,000$ números de la forma $(-1)^{i-1} \\frac{4}{2i-1}$ y súmalos para tener una aproximación de $\\pi$."
   ]
  },
  {
   "cell_type": "code",
   "execution_count": 6,
   "metadata": {},
   "outputs": [
    {
     "name": "stdout",
     "output_type": "stream",
     "text": [
      "π ≈ 3.1415916535897743\n"
     ]
    }
   ],
   "source": [
    "p = sum(((-1)^(i-1))*(4/(2*i-1)) for i ∈ 1:1000000)\n",
    "println(\"π ≈ $p\")"
   ]
  },
  {
   "cell_type": "code",
   "execution_count": 7,
   "metadata": {},
   "outputs": [
    {
     "data": {
      "text/plain": [
       "3.183098921111238e-7"
      ]
     },
     "execution_count": 7,
     "metadata": {},
     "output_type": "execute_result"
    }
   ],
   "source": [
    "1-p/π"
   ]
  },
  {
   "cell_type": "markdown",
   "metadata": {},
   "source": [
    "¿qué tan bien aproxima?"
   ]
  },
  {
   "cell_type": "markdown",
   "metadata": {},
   "source": [
    "R:tiene una incertidumbre de 3.18exp(-7), casi cero."
   ]
  },
  {
   "cell_type": "markdown",
   "metadata": {},
   "source": [
    "# Tipos de Variables: "
   ]
  },
  {
   "cell_type": "markdown",
   "metadata": {},
   "source": [
    "4. ¿Qué tipo de variable son las siguientes:\n",
    "    - n = 100\n",
    "    - x = Float32(2)/Int(25)\n",
    "    - z = 1+2.5*im\n",
    "    - q = 5//2?"
   ]
  },
  {
   "cell_type": "code",
   "execution_count": 8,
   "metadata": {},
   "outputs": [
    {
     "data": {
      "text/plain": [
       "Int64"
      ]
     },
     "execution_count": 8,
     "metadata": {},
     "output_type": "execute_result"
    }
   ],
   "source": [
    "n= 100\n",
    "typeof(n) #Int64"
   ]
  },
  {
   "cell_type": "code",
   "execution_count": 9,
   "metadata": {},
   "outputs": [
    {
     "data": {
      "text/plain": [
       "Float32"
      ]
     },
     "execution_count": 9,
     "metadata": {},
     "output_type": "execute_result"
    }
   ],
   "source": [
    "x= Float32(2) / Int(25)\n",
    "typeof(x) #Float32"
   ]
  },
  {
   "cell_type": "code",
   "execution_count": 10,
   "metadata": {},
   "outputs": [
    {
     "data": {
      "text/plain": [
       "Complex{Float64}"
      ]
     },
     "execution_count": 10,
     "metadata": {},
     "output_type": "execute_result"
    }
   ],
   "source": [
    "z= 1 + 2.5*im\n",
    "typeof(z)#Float 64 complejo"
   ]
  },
  {
   "cell_type": "code",
   "execution_count": 11,
   "metadata": {},
   "outputs": [
    {
     "data": {
      "text/plain": [
       "Rational{Int64}"
      ]
     },
     "execution_count": 11,
     "metadata": {},
     "output_type": "execute_result"
    }
   ],
   "source": [
    "q = 5 // 2\n",
    "typeof(q)#Racional Int64 "
   ]
  },
  {
   "cell_type": "markdown",
   "metadata": {},
   "source": [
    "5. ¿[1,2] es un número en Julia? (demuestra tu respuesta).  "
   ]
  },
  {
   "cell_type": "markdown",
   "metadata": {},
   "source": [
    "[1,2] no es un número, sino un arreglo. \n",
    "Para demostrar esto, basta con dar un contraejemplo: si [1,2] fuera un numero en julia, entonces [1,2]*[1,2] deberia de estar definido y devolver un número, pero no es así:\n",
    "       \n",
    "  [1,2]*[1,2] $\\ne \\Re$\n",
    "  \n",
    "No obstante, sí podemos definir una operacíon entre los elementos del arreglo, por ejemplo: multiplicar cada entrada\n",
    "[1,2].*[1,2]= [1,4]\n",
    "  "
   ]
  },
  {
   "cell_type": "code",
   "execution_count": 12,
   "metadata": {},
   "outputs": [
    {
     "ename": "LoadError",
     "evalue": "\u001b[91mMethodError: no method matching *(::Array{Int64,1}, ::Array{Int64,1})\u001b[39m\n\u001b[91m\u001b[0mClosest candidates are:\u001b[39m\n\u001b[91m\u001b[0m  *(::Any, ::Any, \u001b[91m::Any\u001b[39m, \u001b[91m::Any...\u001b[39m) at operators.jl:538\u001b[39m\n\u001b[91m\u001b[0m  *(\u001b[91m::Adjoint{var\"#s828\",var\"#s8281\"} where var\"#s8281\"<:(AbstractArray{T,1} where T) where var\"#s828\"<:Number\u001b[39m, ::AbstractArray{var\"#s827\",1} where var\"#s827\"<:Number) at C:\\buildbot\\worker\\package_win64\\build\\usr\\share\\julia\\stdlib\\v1.5\\LinearAlgebra\\src\\adjtrans.jl:283\u001b[39m\n\u001b[91m\u001b[0m  *(\u001b[91m::Transpose{T,var\"#s828\"} where var\"#s828\"<:(AbstractArray{T,1} where T)\u001b[39m, ::AbstractArray{T,1}) where T<:Real at C:\\buildbot\\worker\\package_win64\\build\\usr\\share\\julia\\stdlib\\v1.5\\LinearAlgebra\\src\\adjtrans.jl:284\u001b[39m\n\u001b[91m\u001b[0m  ...\u001b[39m",
     "output_type": "error",
     "traceback": [
      "\u001b[91mMethodError: no method matching *(::Array{Int64,1}, ::Array{Int64,1})\u001b[39m\n\u001b[91m\u001b[0mClosest candidates are:\u001b[39m\n\u001b[91m\u001b[0m  *(::Any, ::Any, \u001b[91m::Any\u001b[39m, \u001b[91m::Any...\u001b[39m) at operators.jl:538\u001b[39m\n\u001b[91m\u001b[0m  *(\u001b[91m::Adjoint{var\"#s828\",var\"#s8281\"} where var\"#s8281\"<:(AbstractArray{T,1} where T) where var\"#s828\"<:Number\u001b[39m, ::AbstractArray{var\"#s827\",1} where var\"#s827\"<:Number) at C:\\buildbot\\worker\\package_win64\\build\\usr\\share\\julia\\stdlib\\v1.5\\LinearAlgebra\\src\\adjtrans.jl:283\u001b[39m\n\u001b[91m\u001b[0m  *(\u001b[91m::Transpose{T,var\"#s828\"} where var\"#s828\"<:(AbstractArray{T,1} where T)\u001b[39m, ::AbstractArray{T,1}) where T<:Real at C:\\buildbot\\worker\\package_win64\\build\\usr\\share\\julia\\stdlib\\v1.5\\LinearAlgebra\\src\\adjtrans.jl:284\u001b[39m\n\u001b[91m\u001b[0m  ...\u001b[39m",
      "",
      "Stacktrace:",
      " [1] top-level scope at In[12]:2",
      " [2] include_string(::Function, ::Module, ::String, ::String) at .\\loading.jl:1091"
     ]
    }
   ],
   "source": [
    "# Al correr este programa, se observa el error. Esto demuestra que [1,2] no es un número.\n",
    "[1,2]*[1,2]"
   ]
  },
  {
   "cell_type": "code",
   "execution_count": 13,
   "metadata": {
    "scrolled": true
   },
   "outputs": [
    {
     "data": {
      "text/plain": [
       "2-element Array{Int64,1}:\n",
       " 1\n",
       " 4"
      ]
     },
     "execution_count": 13,
     "metadata": {},
     "output_type": "execute_result"
    }
   ],
   "source": [
    "#Al correr este programa vemos cómo pudimos operar los elementos del arreglo:\n",
    "[1,2].*[1,2]"
   ]
  },
  {
   "cell_type": "markdown",
   "metadata": {},
   "source": [
    "6. Obtén $2^{1000}$. ¿Qué tipo de variable es?"
   ]
  },
  {
   "cell_type": "code",
   "execution_count": 14,
   "metadata": {},
   "outputs": [
    {
     "data": {
      "text/plain": [
       "(0, Int64)"
      ]
     },
     "execution_count": 14,
     "metadata": {},
     "output_type": "execute_result"
    }
   ],
   "source": [
    "p=2^1000\n",
    "p,typeof(p) #es un entero, pero parece que es cero, sin embargo sabemos que es cero porque se pasa de 2^63-1."
   ]
  },
  {
   "cell_type": "code",
   "execution_count": 15,
   "metadata": {},
   "outputs": [
    {
     "data": {
      "text/plain": [
       "(10715086071862673209484250490600018105614048117055336074437503883703510511249361224931983788156958581275946729175531468251871452856923140435984577574698574803934567774824230985421074605062371141877954182153046474983581941267398767559165543946077062914571196477686542167660429831652624386837205668069376, BigInt)"
      ]
     },
     "execution_count": 15,
     "metadata": {},
     "output_type": "execute_result"
    }
   ],
   "source": [
    "#por lo que para obtener el resultado correcto se debe usar un BigInt\n",
    "p=BigInt(2)^1000\n",
    "p,typeof(p)"
   ]
  },
  {
   "cell_type": "markdown",
   "metadata": {},
   "source": [
    "7. Estima con al menos 300 cifras significativas el valor de $4 \\arctan(1)$."
   ]
  },
  {
   "cell_type": "code",
   "execution_count": 16,
   "metadata": {},
   "outputs": [
    {
     "data": {
      "text/plain": [
       "3.1415926535897932384626433832795028841971693993751058209749445923078164062862089986280348253421170679821480865132823066470938446095505822317253594081284811174502841027019385211055596446229489549303819644288109756659334461284756482337867831652712019091456485669234603486104543266482133936072602491412751"
      ]
     },
     "execution_count": 16,
     "metadata": {},
     "output_type": "execute_result"
    }
   ],
   "source": [
    "setprecision(Int(ceil(log2(10) * 300)))\n",
    "4*atan(BigFloat(\"1\"))"
   ]
  },
  {
   "cell_type": "code",
   "execution_count": 17,
   "metadata": {},
   "outputs": [
    {
     "data": {
      "text/plain": [
       "302"
      ]
     },
     "execution_count": 17,
     "metadata": {},
     "output_type": "execute_result"
    }
   ],
   "source": [
    " length(\"$(4*atan(BigFloat(\"1\")))\") -1"
   ]
  },
  {
   "cell_type": "markdown",
   "metadata": {},
   "source": [
    " 8. Haz un tipo de variable abstracto que sea ObjetosGeometricos. Después haz un tipo de variable compuesta (un objeto) mutable llamado Segmento, que tenga como características el punto_inicial (un arreglo de 1 dimensión) y el punto_final (otro arreglo de 1 dimensión) y una longitud (un real). "
   ]
  },
  {
   "cell_type": "code",
   "execution_count": 18,
   "metadata": {},
   "outputs": [],
   "source": [
    "abstract type ObjetosGeometricos  end"
   ]
  },
  {
   "cell_type": "code",
   "execution_count": 19,
   "metadata": {},
   "outputs": [],
   "source": [
    "mutable struct Segmento <: ObjetosGeometricos\n",
    "    punto_inicial::Array\n",
    "    punto_final::Array\n",
    "    longitud::Real\n",
    "end"
   ]
  },
  {
   "cell_type": "markdown",
   "metadata": {},
   "source": [
    "9. Haz otro objeto que se llame Poligono, que tenga como elementos vertices (un arreglo de arreglos), lados (Segmentos), numero_de_lados (enteros), area (un real), y perímetro (la unión de AbstractFloat y enteros). Haz que este objeto sea parte del conjunto de variables abstractas \"ObjetosGeometricos\". "
   ]
  },
  {
   "cell_type": "code",
   "execution_count": 20,
   "metadata": {},
   "outputs": [],
   "source": [
    "mutable struct Poligono <: ObjetosGeometricos\n",
    "    Vertices::Array\n",
    "    lado::Segmento\n",
    "    numero_de_lados::Integer\n",
    "    area::Real\n",
    "    perimetro::Union{AbstractFloat, Integer} \n",
    "end"
   ]
  },
  {
   "cell_type": "markdown",
   "metadata": {},
   "source": [
    "# Funciones"
   ]
  },
  {
   "cell_type": "markdown",
   "metadata": {},
   "source": [
    "10. Haz una función que encuentre cualquier número (como tu fecha de cumpleaños ddmmaaaa) dentro de las primeras $6,020,601$ de cifras de $\\pi$. Para esto tendrás que poner la precisión de los BigFloat en $20,000,000$. Si utilizas cadenas, recuerda que la primera cifra es 3 y la segunda es 1, no \".\".  (mi cumpleaños completo está entre la cifra 5712847 y 5712854). ¿Cuándo nací? "
   ]
  },
  {
   "cell_type": "code",
   "execution_count": 21,
   "metadata": {},
   "outputs": [
    {
     "data": {
      "text/plain": [
       "(6020602, \"03101984\")"
      ]
     },
     "execution_count": 21,
     "metadata": {},
     "output_type": "execute_result"
    }
   ],
   "source": [
    "setprecision(BigFloat,20_000_000)\n",
    "pp=string(BigFloat(π))\n",
    "length(\"$pp\"), pp[5712846:5712853]\n",
    "#Nació es el 3 de octubre de 1984"
   ]
  },
  {
   "cell_type": "code",
   "execution_count": 22,
   "metadata": {},
   "outputs": [
    {
     "data": {
      "text/plain": [
       "cumpleaños (generic function with 1 method)"
      ]
     },
     "execution_count": 22,
     "metadata": {},
     "output_type": "execute_result"
    }
   ],
   "source": [
    "function cumpleaños(fecha::String)\n",
    "    pp[1:6020602]\n",
    "    i=1 #Esto para no contar al \".\", lo cual es posible ya que nadie cumple años el 31 del mes 41\n",
    "    while fecha != pp[i:i+5]  #Se usará un formato ddmmaa para tener un mayor número de fechas  \n",
    "       i = i+1\n",
    "    end\n",
    "      print([i:i+5])\n",
    "     \n",
    "end  "
   ]
  },
  {
   "cell_type": "code",
   "execution_count": 23,
   "metadata": {},
   "outputs": [
    {
     "name": "stdout",
     "output_type": "stream",
     "text": [
      "UnitRange{Int64}[68668:68673]"
     ]
    }
   ],
   "source": [
    "cumpleaños(\"170698\")"
   ]
  },
  {
   "cell_type": "markdown",
   "metadata": {},
   "source": [
    "11. Haz una función que se llame Segmento y requiera como argumentos dos arreglos de dimensión 1. La función debe arrojar un objeto Segmento, que tenga las propiedades de punto_inicial = el primer arreglo, punto_final = segundo arreglo y longitud = la distancia euclidiana entre el primer arreglo y el segundo. "
   ]
  },
  {
   "cell_type": "code",
   "execution_count": 24,
   "metadata": {},
   "outputs": [
    {
     "data": {
      "text/plain": [
       "Segmento"
      ]
     },
     "execution_count": 24,
     "metadata": {},
     "output_type": "execute_result"
    }
   ],
   "source": [
    "function Segmento(punto_inicial::Array, punto_final::Array)\n",
    "    return Segmento(punto_inicial,punto_final,norm(punto_inicial-punto_final))\n",
    "end"
   ]
  },
  {
   "cell_type": "code",
   "execution_count": 25,
   "metadata": {},
   "outputs": [
    {
     "data": {
      "text/plain": [
       "Segmento([1, 1], [2, 2], 1.4142135623730951)"
      ]
     },
     "execution_count": 25,
     "metadata": {},
     "output_type": "execute_result"
    }
   ],
   "source": [
    "Segmento([1,1],[2,2])"
   ]
  },
  {
   "cell_type": "markdown",
   "metadata": {},
   "source": [
    "12. Haz una función llamada Polígono que tome como elementos un arreglo de arreglos uno dimensionales (que corresponden a los vértices de un polígono), y que regrese un objeto Poligono, que tenga como característica:  vertices = el arreglo de arreglos, lados = los segmentos que van de cada uno de los elementos del arreglo al siguiente (es decir, si el arreglo es V, entonces que genere los segmentos que van de V[i] a V[i+1] y el último de los elementos que lo una al primero, es decir, V[end] unido a V[1]), numero_de_lados = length(del arreglo de arrelgos), area = área del polígono, perimetro = perímetro del polígono. \n",
    "\n",
    "Hint: Busca sobre la \"fórmula de agujeta\" para calcular el área del polígono. Sólo asegúrate que tenga sentido el área, interpreta qué significa el área de los polígonos donde se cruzan los segmentos.  "
   ]
  },
  {
   "cell_type": "code",
   "execution_count": 26,
   "metadata": {},
   "outputs": [
    {
     "data": {
      "text/plain": [
       "Poligono"
      ]
     },
     "execution_count": 26,
     "metadata": {},
     "output_type": "execute_result"
    }
   ],
   "source": [
    "function Poligono(vertices::Array)\n",
    "    numero_de_lados=length(vertices)\n",
    "    peri = 0\n",
    "    area = 0 \n",
    "   for i ∈ 1:numero_de_lados\n",
    "        j = i+1 \n",
    "        if j <= numero_de_lados\n",
    "            lado1 = Segmento(vertices[i],vertices[j])\n",
    "            lado = lado1.longitud\n",
    "            peri = peri + lado\n",
    "            are = 0.5 * (vertices[i][1]*vertices[j][2] - vertices[j][1]*vertices[i][2])\n",
    "            area = area + are\n",
    "            #println(\"poligono casi completo \",Poligono(vertices, lado1 , numero_de_lados, area, peri)) #ya que el polígono no se ha formado por completo\n",
    "        else\n",
    "            lado1 = Segmento(vertices[i], vertices[1])\n",
    "            lado = lado1.longitud\n",
    "            peri = peri + lado\n",
    "            are = 0.5 * (vertices[i][1]*vertices[1][2] - vertices[1][1]*vertices[i][2]) \n",
    "            area = area + are  \n",
    "            return Poligono(vertices, lado1 , numero_de_lados, abs(area), peri) #Sólo presenta el último segmento\n",
    "        end  \n",
    "    end\n",
    "end"
   ]
  },
  {
   "cell_type": "code",
   "execution_count": 27,
   "metadata": {},
   "outputs": [
    {
     "data": {
      "text/plain": [
       "Poligono([[0, 0], [0, 1], [1, 1], [1, 0]], Segmento([1, 0], [0, 0], 1.0), 4, 1.0, 4.0)"
      ]
     },
     "execution_count": 27,
     "metadata": {},
     "output_type": "execute_result"
    }
   ],
   "source": [
    "vertices = [[0, 0], [0 , 1], [1,1], [1,0]]\n",
    "Poligono(vertices) # en la entrada 4 de segmento, es numero de lados; en la entrada 5, es area y en la entrada 6 es perimetro"
   ]
  },
  {
   "cell_type": "markdown",
   "metadata": {},
   "source": [
    "13. Agrega un métdo a la función +, de la forma +(ObjetoGeometrico::ObjetosGeometricos...) que regrese un polígono, donde los lados sean los vértices de los segmentos de los objetos geométricos (con el mismo orden que tenga cada objeto y la tupla de objetos geométricos). "
   ]
  },
  {
   "cell_type": "code",
   "execution_count": 28,
   "metadata": {},
   "outputs": [],
   "source": [
    "import Base.+"
   ]
  },
  {
   "cell_type": "code",
   "execution_count": 29,
   "metadata": {},
   "outputs": [
    {
     "data": {
      "text/plain": [
       "+ (generic function with 185 methods)"
      ]
     },
     "execution_count": 29,
     "metadata": {},
     "output_type": "execute_result"
    }
   ],
   "source": [
    "function +(ObjetoGeometrico::ObjetosGeometricos...)\n",
    "    vertices = []\n",
    "    for og in ObjetoGeometrico\n",
    "        push!(vertices,og.punto_inicial)\n",
    "        push!(vertices,og.punto_final)\n",
    "    end\n",
    "    return Poligono(vertices)\n",
    "end"
   ]
  },
  {
   "cell_type": "code",
   "execution_count": 30,
   "metadata": {},
   "outputs": [
    {
     "data": {
      "text/plain": [
       "+ (generic function with 186 methods)"
      ]
     },
     "execution_count": 30,
     "metadata": {},
     "output_type": "execute_result"
    }
   ],
   "source": [
    "function +(segmentos::Array{Segmento,1})\n",
    "    vertices = [segmento.punto_inicial for segmento in segmentos]\n",
    "    return Poligono(vertices)\n",
    "end"
   ]
  },
  {
   "cell_type": "markdown",
   "metadata": {},
   "source": [
    "14. Agega los métodos a la función *, de la forma *(ObjetoGeometrico::ObjetosGeometricos, a::Number) y *(a::Number, ObjetosGeometrico::ObjetosGeometricos), de tal forma que la posición de los vértices del objeto geométrico se multiplique por a (y corrija con eso las demás características del objeto geométrico). "
   ]
  },
  {
   "cell_type": "code",
   "execution_count": 31,
   "metadata": {},
   "outputs": [],
   "source": [
    "import Base.*"
   ]
  },
  {
   "cell_type": "code",
   "execution_count": 32,
   "metadata": {},
   "outputs": [
    {
     "data": {
      "text/plain": [
       "* (generic function with 365 methods)"
      ]
     },
     "execution_count": 32,
     "metadata": {},
     "output_type": "execute_result"
    }
   ],
   "source": [
    "function *(ObjetoGeometrico::ObjetosGeometricos, a::Number)\n",
    "    vertices = []\n",
    "    for og in ObjetoGeometrico\n",
    "        og.Vertices = a * og\n",
    "        push!(vertices,og.Vertices)\n",
    "       \n",
    "    end\n",
    "    return Poligono(Vertices)\n",
    "end\n"
   ]
  },
  {
   "cell_type": "code",
   "execution_count": 33,
   "metadata": {},
   "outputs": [
    {
     "data": {
      "text/plain": [
       "* (generic function with 366 methods)"
      ]
     },
     "execution_count": 33,
     "metadata": {},
     "output_type": "execute_result"
    }
   ],
   "source": [
    "function *(a::Number, segmentos::Array{Segmento,1} )\n",
    "    vertices= [(a .* segmento) for segmento in segmentos]\n",
    "    return Segmento(vertices)\n",
    "end"
   ]
  },
  {
   "cell_type": "markdown",
   "metadata": {},
   "source": [
    "15. Haz una función que tenga como argumentos una función $f$ en $\\mathbb{R}$, 2 reales ($a$ y $b$) y un key argument $n = 20$ y que arroje una lista de segmentos de la siguiente forma. El primer segmento tendrá los vertices $[a,0]$ y $[0,f(a)]$, el segundo segmento tendrá los vértices $[\\delta x,f(a+\\delta x)]$ y $[2\\delta x,f(a+2\\delta x)]$, el tercero tendrá los vértices $[3\\delta x,f(a+3\\delta x)]$ y $[4\\delta x,f(a+4\\delta x)]$, así sucesivamente hasta llegar al segmento $[b-\\delta x,f(b-\\delta x)]$, $[b,f(b)]$ y finalmente el segmento final será el que tenga los vértices $[b,0]$ y $[a, 0]$. Aquí $\\delta x = |a-b|/n$. "
   ]
  },
  {
   "cell_type": "code",
   "execution_count": 34,
   "metadata": {},
   "outputs": [
    {
     "data": {
      "text/plain": [
       "crear_segmentos (generic function with 1 method)"
      ]
     },
     "execution_count": 34,
     "metadata": {},
     "output_type": "execute_result"
    }
   ],
   "source": [
    "function crear_segmentos(f,a::Float64,b::Float64;n::Int=20)\n",
    "    segmentos = [Segmento([a,0],[a,f(a)])]\n",
    "    dx = (b-a)/n\n",
    "    for i in 1:n\n",
    "        segmento_i = Segmento([(i-1)*dx+a,f((i-1)*dx+a)],[a+i*dx,f(a+i*dx)])\n",
    "        push!(segmentos,segmento_i)\n",
    "    end\n",
    "    push!(segmentos,Segmento([b,f(b)],[b,0]))\n",
    "    push!(segmentos,Segmento([b,0],[a,0]))\n",
    "    \n",
    "    return segmentos\n",
    "end"
   ]
  },
  {
   "cell_type": "code",
   "execution_count": 35,
   "metadata": {},
   "outputs": [
    {
     "data": {
      "text/plain": [
       "crear_segmentos2 (generic function with 1 method)"
      ]
     },
     "execution_count": 35,
     "metadata": {},
     "output_type": "execute_result"
    }
   ],
   "source": [
    "function crear_segmentos2(f,a::Float64,b::Float64;n::Int=20)\n",
    "    segmentos = [Segmento([a,0],[a,f(a)])]\n",
    "    dx = (b-a)/n\n",
    "    for i in 1:2:n-1\n",
    "        segmento_i = Segmento([i*dx+a,f(i*dx+a)],[a+(i+1)*dx,f(a+(i+1)*dx)])\n",
    "        push!(segmentos,segmento_i)\n",
    "    end\n",
    "    push!(segmentos,Segmento([b,f(b)],[b,0]))\n",
    "    return segmentos\n",
    "end"
   ]
  },
  {
   "cell_type": "markdown",
   "metadata": {},
   "source": [
    "16. Usa la función del ejercio 15 y la suma de objetos geométricos (ejercicio 13) para obtener una función que calcule el área bajo la curva de f(x). ¿Corresponde siempre con la integral de f(x)?   "
   ]
  },
  {
   "cell_type": "code",
   "execution_count": 36,
   "metadata": {},
   "outputs": [
    {
     "data": {
      "text/plain": [
       "8-element Array{Segmento,1}:\n",
       " Segmento([0.0, 0.0], [0.0, 0.0], 0.0)\n",
       " Segmento([0.0, 0.0], [1.0, 1.0], 1.4142135623730951)\n",
       " Segmento([1.0, 1.0], [2.0, 2.0], 1.4142135623730951)\n",
       " Segmento([2.0, 2.0], [3.0, 3.0], 1.4142135623730951)\n",
       " Segmento([3.0, 3.0], [4.0, 4.0], 1.4142135623730951)\n",
       " Segmento([4.0, 4.0], [5.0, 5.0], 1.4142135623730951)\n",
       " Segmento([5.0, 5.0], [5.0, 0.0], 5.0)\n",
       " Segmento([5.0, 0.0], [0.0, 0.0], 5.0)"
      ]
     },
     "execution_count": 36,
     "metadata": {},
     "output_type": "execute_result"
    }
   ],
   "source": [
    "ss = crear_segmentos(x->x,0.,5.,n=5)"
   ]
  },
  {
   "cell_type": "code",
   "execution_count": 37,
   "metadata": {},
   "outputs": [
    {
     "data": {
      "text/plain": [
       "4-element Array{Segmento,1}:\n",
       " Segmento([0.0, 0.0], [0.0, 0.0], 0.0)\n",
       " Segmento([1.0, 1.0], [2.0, 2.0], 1.4142135623730951)\n",
       " Segmento([3.0, 3.0], [4.0, 4.0], 1.4142135623730951)\n",
       " Segmento([5.0, 5.0], [5.0, 0.0], 5.0)"
      ]
     },
     "execution_count": 37,
     "metadata": {},
     "output_type": "execute_result"
    }
   ],
   "source": [
    "ss2 = crear_segmentos2(x->x,0.,5.,n=5)"
   ]
  },
  {
   "cell_type": "code",
   "execution_count": 38,
   "metadata": {},
   "outputs": [
    {
     "data": {
      "text/plain": [
       "Poligono([[0.0, 0.0], [0.0, 0.0], [1.0, 1.0], [2.0, 2.0], [3.0, 3.0], [4.0, 4.0], [5.0, 5.0], [5.0, 0.0]], Segmento([5.0, 0.0], [0.0, 0.0], 5.0), 8, 12.5, 17.071067811865476)"
      ]
     },
     "execution_count": 38,
     "metadata": {},
     "output_type": "execute_result"
    }
   ],
   "source": [
    "+(ss)"
   ]
  },
  {
   "cell_type": "code",
   "execution_count": 39,
   "metadata": {},
   "outputs": [
    {
     "data": {
      "text/plain": [
       "Poligono(Any[[0.0, 0.0], [0.0, 0.0], [1.0, 1.0], [2.0, 2.0], [3.0, 3.0], [4.0, 4.0], [5.0, 5.0], [5.0, 0.0]], Segmento([5.0, 0.0], [0.0, 0.0], 5.0), 8, 12.5, 17.071067811865476)"
      ]
     },
     "execution_count": 39,
     "metadata": {},
     "output_type": "execute_result"
    }
   ],
   "source": [
    "+(ss2...)"
   ]
  },
  {
   "cell_type": "markdown",
   "metadata": {},
   "source": [
    "17. Calcula $\\pi$ usando 3 métodos:\n",
    "\n",
    "- Midiendo el área de un polígono regular de $n$ lados de radio 1. \n",
    "- Midiendo el perímetro de un polígono regular de $n$ lados de radio 1/2. \n",
    "- Calculando 2 veces el área bajo la curva (ejercicio 16) de $ f(x) = \\sqrt{1-x^2}$ entre -1 y 1, para $n = n$ (aquí la segunda $n$ en la igualdad se refiere al valor que asignan a $n$ el key argument de la función en 15). \n",
    "\n",
    "¿Qué método lo aproxima mejor al crecer $n$?"
   ]
  },
  {
   "cell_type": "markdown",
   "metadata": {},
   "source": [
    "##  Metodo 1 (todas las aproximaciones son para n=1000000)"
   ]
  },
  {
   "cell_type": "markdown",
   "metadata": {},
   "source": [
    "El área de un polígono regular de n lados inscrito en una circunferencia con $r=1$: $A = \\frac{P\\times a}{2}$; donde el lado del polígono es posible encontrarlo partiendo del ángulo central del polígono: $\\theta =\\frac{2\\pi}{n}\\hspace{.5cm}\\rightarrow\\hspace{.3cm}l = 2\\sin\\left(\\frac{\\theta}{2}\\right) = 2\\sin\\left(\\frac{\\pi}{n}\\right) = 2\\sin\\left(\\frac{180°}{n}\\right)$\n",
    "\n",
    "Mientras que $a=\\cos\\left(\\frac{\\pi}{2}\\right)$\n",
    "\n",
    "Por lo tanto $A = \\frac{P\\times a}{2} = \\frac{n}{2}\\sin\\left(\\frac{2\\pi}{n}\\right)$\n",
    "\n",
    "Expresión que podía obtenerse de manera independiente con la fórmula del área entre dos vectores.\n",
    "\n"
   ]
  },
  {
   "cell_type": "code",
   "execution_count": 40,
   "metadata": {},
   "outputs": [
    {
     "data": {
      "text/plain": [
       "Apoli_pi (generic function with 1 method)"
      ]
     },
     "execution_count": 40,
     "metadata": {},
     "output_type": "execute_result"
    }
   ],
   "source": [
    "Apoli_pi(n)=(n*sin(2*(π/n)))/2"
   ]
  },
  {
   "cell_type": "code",
   "execution_count": 41,
   "metadata": {},
   "outputs": [
    {
     "data": {
      "text/plain": [
       "3.1415926535691225"
      ]
     },
     "execution_count": 41,
     "metadata": {},
     "output_type": "execute_result"
    }
   ],
   "source": [
    "Apoli_pi(1000000)"
   ]
  },
  {
   "cell_type": "markdown",
   "metadata": {},
   "source": [
    "\n",
    "\n",
    "## \n",
    "## $$ Metodo 2 $$\n"
   ]
  },
  {
   "cell_type": "markdown",
   "metadata": {},
   "source": [
    "El perímetro de un polígono regular de n lados inscrito en una circunferencia con $r=1/2$ es posible escribirlo en función del ángulo central del polígono: $\\theta =\\frac{2\\pi}{n}\\hspace{.5cm}\\rightarrow\\hspace{.3cm}l = \\sin\\left(\\frac{\\theta}{2}\\right) = \\sin\\left(\\frac{\\pi}{n}\\right) = \\sin\\left(\\frac{180°}{n}\\right)$\n",
    "\n",
    "Entonces $P = n\\sin\\left(\\frac{\\pi}{n}\\right)$"
   ]
  },
  {
   "cell_type": "code",
   "execution_count": 42,
   "metadata": {},
   "outputs": [
    {
     "data": {
      "text/plain": [
       "peri_pi (generic function with 1 method)"
      ]
     },
     "execution_count": 42,
     "metadata": {},
     "output_type": "execute_result"
    }
   ],
   "source": [
    "peri_pi(n)=n*sin(π/n)"
   ]
  },
  {
   "cell_type": "code",
   "execution_count": 43,
   "metadata": {},
   "outputs": [
    {
     "data": {
      "text/plain": [
       "3.1415926535846257"
      ]
     },
     "execution_count": 43,
     "metadata": {},
     "output_type": "execute_result"
    }
   ],
   "source": [
    "peri_pi(1000000)"
   ]
  },
  {
   "cell_type": "markdown",
   "metadata": {},
   "source": [
    "# $$ Metodo 3.1 $$"
   ]
  },
  {
   "cell_type": "code",
   "execution_count": 44,
   "metadata": {
    "scrolled": false
   },
   "outputs": [
    {
     "data": {
      "text/plain": [
       "1000003-element Array{Segmento,1}:\n",
       " Segmento([-1.0, 0.0], [-1.0, 0.0], 0.0)\n",
       " Segmento([-1.0, 0.0], [-0.999998, 0.0019999989999673604], 0.0019999999999676106)\n",
       " Segmento([-0.999998, 0.0019999989999673604], [-0.999996, 0.0028284242963227567], 0.0008284277105707693)\n",
       " Segmento([-0.999996, 0.0028284242963227567], [-0.999994, 0.003464096418969917], 0.0006356752689154633)\n",
       " Segmento([-0.999994, 0.003464096418969917], [-0.999992, 0.003999991999990563], 0.0005358993130779847)\n",
       " Segmento([-0.999992, 0.003999991999990563], [-0.99999, 0.004472124774634615], 0.0004721370107215607)\n",
       " Segmento([-0.99999, 0.004472124774634615], [-0.999988, 0.004898964788604822], 0.0004268446995408122)\n",
       " Segmento([-0.999988, 0.004898964788604822], [-0.999986, 0.005291484101830314], 0.00039252440848310574)\n",
       " Segmento([-0.999986, 0.005291484101830314], [-0.999984, 0.005656831622033046], 0.00036535299440169607)\n",
       " Segmento([-0.999984, 0.005656831622033046], [-0.999982, 0.005999972999928914], 0.00034314720634776377)\n",
       " Segmento([-0.999982, 0.005999972999928914], [-0.99998, 0.006324523697481646], 0.0003245568598596629)\n",
       " Segmento([-0.99998, 0.006324523697481646], [-0.999978, 0.006633213097736402], 0.0003086958791912212)\n",
       " Segmento([-0.999978, 0.006633213097736402], [-0.999976, 0.0069281616609330465], 0.00029495534396203974)\n",
       " ⋮\n",
       " Segmento([0.9999799999999999, 0.0063245236974992], [0.9999819999999999, 0.0059999729999474175], 0.000324556859858714)\n",
       " Segmento([0.9999819999999999, 0.0059999729999474175], [0.999984, 0.005656831622033046], 0.0003431472063662676)\n",
       " Segmento([0.999984, 0.005656831622033046], [0.9999859999999998, 0.005291484101872277], 0.00036535299435973257)\n",
       " Segmento([0.9999859999999998, 0.005291484101872277], [0.9999879999999999, 0.004898964788627484], 0.0003925244085024066)\n",
       " Segmento([0.9999879999999999, 0.004898964788627484], [0.9999899999999999, 0.00447212477465944], 0.00042684469953864994)\n",
       " Segmento([0.9999899999999999, 0.00447212477465944], [0.999992, 0.003999991999990563], 0.0004721370107463857)\n",
       " Segmento([0.999992, 0.003999991999990563], [0.9999939999999998, 0.003464096419034016], 0.0005358993130138854)\n",
       " Segmento([0.9999939999999998, 0.003464096419034016], [0.9999959999999999, 0.002828424296362009], 0.00063567526894031)\n",
       " Segmento([0.9999959999999999, 0.002828424296362009], [0.9999979999999999, 0.001999999000022872], 0.0008284277105545102)\n",
       " Segmento([0.9999979999999999, 0.001999999000022872], [1.0, 0.0], 0.002000000000023122)\n",
       " Segmento([1.0, 0.0], [1.0, 0.0], 0.0)\n",
       " Segmento([1.0, 0.0], [-1.0, 0.0], 2.0)"
      ]
     },
     "execution_count": 44,
     "metadata": {},
     "output_type": "execute_result"
    }
   ],
   "source": [
    "segs_pi = crear_segmentos(x->sqrt(1-x^2),-1.,1.,n=1000000)"
   ]
  },
  {
   "cell_type": "code",
   "execution_count": 45,
   "metadata": {},
   "outputs": [
    {
     "data": {
      "text/plain": [
       "Poligono([[-1.0, 0.0], [-1.0, 0.0], [-0.999998, 0.0019999989999673604], [-0.999996, 0.0028284242963227567], [-0.999994, 0.003464096418969917], [-0.999992, 0.003999991999990563], [-0.99999, 0.004472124774634615], [-0.999988, 0.004898964788604822], [-0.999986, 0.005291484101830314], [-0.999984, 0.005656831622033046]  …  [0.999984, 0.005656831622033046], [0.9999859999999998, 0.005291484101872277], [0.9999879999999999, 0.004898964788627484], [0.9999899999999999, 0.00447212477465944], [0.999992, 0.003999991999990563], [0.9999939999999998, 0.003464096419034016], [0.9999959999999999, 0.002828424296362009], [0.9999979999999999, 0.001999999000022872], [1.0, 0.0], [1.0, 0.0]], Segmento([1.0, 0.0], [-1.0, 0.0], 2.0), 1000003, 1.5707963251318038, 5.141592652758252)"
      ]
     },
     "execution_count": 45,
     "metadata": {},
     "output_type": "execute_result"
    }
   ],
   "source": [
    "poli_pi = +(segs_pi)"
   ]
  },
  {
   "cell_type": "code",
   "execution_count": 46,
   "metadata": {},
   "outputs": [
    {
     "data": {
      "text/plain": [
       "3.1415926502636076"
      ]
     },
     "execution_count": 46,
     "metadata": {},
     "output_type": "execute_result"
    }
   ],
   "source": [
    "poli_pi.area*2"
   ]
  },
  {
   "cell_type": "markdown",
   "metadata": {},
   "source": [
    "# $$ Metodo 3.2 $$"
   ]
  },
  {
   "cell_type": "code",
   "execution_count": 47,
   "metadata": {},
   "outputs": [
    {
     "data": {
      "text/plain": [
       "500002-element Array{Segmento,1}:\n",
       " Segmento([-1.0, 0.0], [-1.0, 0.0], 0.0)\n",
       " Segmento([-0.999998, 0.0019999989999673604], [-0.999996, 0.0028284242963227567], 0.0008284277105707693)\n",
       " Segmento([-0.999994, 0.003464096418969917], [-0.999992, 0.003999991999990563], 0.0005358993130779847)\n",
       " Segmento([-0.99999, 0.004472124774634615], [-0.999988, 0.004898964788604822], 0.0004268446995408122)\n",
       " Segmento([-0.999986, 0.005291484101830314], [-0.999984, 0.005656831622033046], 0.00036535299440169607)\n",
       " Segmento([-0.999982, 0.005999972999928914], [-0.99998, 0.006324523697481646], 0.0003245568598596629)\n",
       " Segmento([-0.999978, 0.006633213097736402], [-0.999976, 0.0069281616609330465], 0.00029495534396203974)\n",
       " Segmento([-0.999974, 0.007211055678602632], [-0.999972, 0.007483262390166468], 0.00027221405882209266)\n",
       " Segmento([-0.99997, 0.00774590859744585], [-0.999968, 0.007999935999748254], 0.0002540352753467673)\n",
       " Segmento([-0.999966, 0.008246141158141458], [-0.999964, 0.00848520500636832], 0.00023907221404637568)\n",
       " Segmento([-0.999962, 0.008717715067604258], [-0.99996, 0.008944182466836119], 0.00022647623035286304)\n",
       " Segmento([-0.999958, 0.009165055155318317], [-0.999956, 0.00938072832993585], 0.00021568244770867504)\n",
       " Segmento([-0.999954, 0.009591552741862974], [-0.999952, 0.009797841394924966], 0.00020629834798691735)\n",
       " ⋮\n",
       " Segmento([0.9999579999999999, 0.009165055155330431], [0.99996, 0.008944182466836119], 0.0002208817432987746)\n",
       " Segmento([0.999962, 0.008717715067604258], [0.9999639999999999, 0.008485205006381405], 0.0002325186628420486)\n",
       " Segmento([0.9999659999999999, 0.008246141158154922], [0.999968, 0.007999935999748254], 0.0002462132815793096)\n",
       " Segmento([0.9999699999999998, 0.007745908597474516], [0.9999719999999999, 0.007483262390181304], 0.0002626538219891521)\n",
       " Segmento([0.9999739999999999, 0.007211055678618027], [0.999976, 0.0069281616609330465], 0.0002829010873820573)\n",
       " Segmento([0.9999779999999998, 0.006633213097769876], [0.9999799999999999, 0.0063245236974992], 0.0003086958792071411)\n",
       " Segmento([0.9999819999999999, 0.0059999729999474175], [0.999984, 0.005656831622033046], 0.0003431472063662676)\n",
       " Segmento([0.9999859999999998, 0.005291484101872277], [0.9999879999999999, 0.004898964788627484], 0.0003925244085024066)\n",
       " Segmento([0.9999899999999999, 0.00447212477465944], [0.999992, 0.003999991999990563], 0.0004721370107463857)\n",
       " Segmento([0.9999939999999998, 0.003464096419034016], [0.9999959999999999, 0.002828424296362009], 0.00063567526894031)\n",
       " Segmento([0.9999979999999999, 0.001999999000022872], [1.0, 0.0], 0.002000000000023122)\n",
       " Segmento([1.0, 0.0], [1.0, 0.0], 0.0)"
      ]
     },
     "execution_count": 47,
     "metadata": {},
     "output_type": "execute_result"
    }
   ],
   "source": [
    "segs_pi2 = crear_segmentos2(x->sqrt(1-x^2),-1.,1.,n=1000000)"
   ]
  },
  {
   "cell_type": "code",
   "execution_count": 48,
   "metadata": {},
   "outputs": [
    {
     "data": {
      "text/plain": [
       "Poligono(Any[[-1.0, 0.0], [-1.0, 0.0], [-0.999998, 0.0019999989999673604], [-0.999996, 0.0028284242963227567], [-0.999994, 0.003464096418969917], [-0.999992, 0.003999991999990563], [-0.99999, 0.004472124774634615], [-0.999988, 0.004898964788604822], [-0.999986, 0.005291484101830314], [-0.999984, 0.005656831622033046]  …  [0.9999859999999998, 0.005291484101872277], [0.9999879999999999, 0.004898964788627484], [0.9999899999999999, 0.00447212477465944], [0.999992, 0.003999991999990563], [0.9999939999999998, 0.003464096419034016], [0.9999959999999999, 0.002828424296362009], [0.9999979999999999, 0.001999999000022872], [1.0, 0.0], [1.0, 0.0], [1.0, 0.0]], Segmento([1.0, 0.0], [-1.0, 0.0], 2.0), 1000004, 1.5707963251318038, 5.141592652758252)"
      ]
     },
     "execution_count": 48,
     "metadata": {},
     "output_type": "execute_result"
    }
   ],
   "source": [
    "poli_pi2 = +(segs_pi2...)"
   ]
  },
  {
   "cell_type": "code",
   "execution_count": 49,
   "metadata": {},
   "outputs": [
    {
     "data": {
      "text/plain": [
       "3.1415926502636076"
      ]
     },
     "execution_count": 49,
     "metadata": {},
     "output_type": "execute_result"
    }
   ],
   "source": [
    "poli_pi2.area*2"
   ]
  },
  {
   "cell_type": "markdown",
   "metadata": {},
   "source": [
    "# $$ Metodo 3.3 $$"
   ]
  },
  {
   "cell_type": "code",
   "execution_count": 50,
   "metadata": {},
   "outputs": [
    {
     "data": {
      "text/plain": [
       "deltax (generic function with 1 method)"
      ]
     },
     "execution_count": 50,
     "metadata": {},
     "output_type": "execute_result"
    }
   ],
   "source": [
    "deltax(n)=2/n"
   ]
  },
  {
   "cell_type": "code",
   "execution_count": 51,
   "metadata": {},
   "outputs": [
    {
     "data": {
      "text/plain": [
       "3.141592650263455"
      ]
     },
     "execution_count": 51,
     "metadata": {},
     "output_type": "execute_result"
    }
   ],
   "source": [
    "Dx=deltax(1000000)\n",
    "poli_pi3=sum(2*√(1 - x^2)*Dx for x ∈ -1:Dx:1)"
   ]
  },
  {
   "cell_type": "markdown",
   "metadata": {},
   "source": [
    "## mejor apriximación"
   ]
  },
  {
   "cell_type": "code",
   "execution_count": 52,
   "metadata": {},
   "outputs": [
    {
     "data": {
      "text/plain": [
       "(2.0670576361681015e-11, 5.167422045815329e-12, 3.3261855492128234e-9, 3.3261855492128234e-9, 3.326338315901012e-9)"
      ]
     },
     "execution_count": 52,
     "metadata": {},
     "output_type": "execute_result"
    }
   ],
   "source": [
    "π-Apoli_pi(1000000), π-peri_pi(1000000), π-poli_pi.area*2, π-poli_pi2.area*2, π-poli_pi3 \n",
    "# la mejor aproximacion la da el metodo de perimetro"
   ]
  },
  {
   "cell_type": "code",
   "execution_count": null,
   "metadata": {},
   "outputs": [],
   "source": []
  }
 ],
 "metadata": {
  "kernelspec": {
   "display_name": "Julia 1.5.3",
   "language": "julia",
   "name": "julia-1.5"
  },
  "language_info": {
   "file_extension": ".jl",
   "mimetype": "application/julia",
   "name": "julia",
   "version": "1.5.3"
  }
 },
 "nbformat": 4,
 "nbformat_minor": 4
}
