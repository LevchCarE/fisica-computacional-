{
 "cells": [
  {
   "cell_type": "markdown",
   "id": "45bc30ed",
   "metadata": {},
   "source": [
    "# Tarea 9: Algoritmos de Monte-Carlo\n",
    "\n",
    "Esta tarea consiste de sólo 4 problemas que son una modificación no tan grande de lo que se vio en los videos. Son todos relativamente fáciles, pero requieren un tiempo no tan pequeño para hacerlos puesto que correr los programas ya no es cuestión de segundos, sino de minitos y cada prueba que se hace lleva entonces minutos, lo que típicamente implica horas de espera entre todas las pruebas. \n",
    "\n",
    "1. Haz una función que calcule el área de una hiper-esfera de dimensión $N$ y radio $r$ usando integrales de Monte-Carlo. Para hacer esto usa ambos métodos: \n",
    "    (i) El método de los disparos.\n",
    "    (ii) Usando la integral de la distribución de probabilidad de una variable aleatoria. \n",
    "    (iii) Finalmente compara tu resultado con el área que debería tener como función del número de puntos de Monte-Carlo."
   ]
  },
  {
   "cell_type": "code",
   "execution_count": null,
   "id": "272b1947",
   "metadata": {},
   "outputs": [],
   "source": []
  },
  {
   "cell_type": "markdown",
   "id": "78c2c1ff",
   "metadata": {},
   "source": [
    "2. Da una interpreatación de caminantes aleatorios a la siguiente ecuación diferencial parcial y resuelvela (para alguna condición a la frontera que dibujes y una función $f(x,y)$ que tú desidas) usando caminantes aleatorios: \n",
    "\n",
    "$$\\nabla u = c$$ con $c$ una constante y $\\nabla$ el laplaciano. "
   ]
  },
  {
   "cell_type": "code",
   "execution_count": null,
   "id": "06b06b19",
   "metadata": {},
   "outputs": [],
   "source": []
  },
  {
   "cell_type": "markdown",
   "id": "de4276a6",
   "metadata": {},
   "source": [
    "3. Simula un sistema de 50 discos suaves en una caja (de lado $1$). Para esto considera un potencial de interacción $U(r_{i,j})$ que depende de $r_{i,j}$, la distancia entre el disco $i$ y el disco $j$ ($i \\ne j$) igual al potencial de Lennard Jones  ($U(r_{i,j}) = \\left(\\frac{\\sigma}{r_{i,j}}\\right)^{12} - \\left(\\frac{\\sigma}{r_{i,j}}\\right)^6$, donde $\\sigma$ es el diametro de los discos) si $r_{i,j} \\le \\sigma$ y $U(r_{i,j}) = 0$ cuando $r_{i,j} > \\sigma$.\n",
    "\n",
    "Tu simulación hazla similar a lo que se hizo en los videos. Comienza con discos de radio $0$ y crece el tamaño de esos discos hasta que se llegue a una fracción de empaquetamiento alta. Nota que esta vez la simulación sí depende de la temperatura (prueba con unas 3 o 4 temperaturas diferentes). \n",
    "\n",
    "Nota: La fracción de empaquetamiento es la suma del área de todos los discos dividido entre el área de la caja. "
   ]
  },
  {
   "cell_type": "code",
   "execution_count": null,
   "id": "e9d977d4",
   "metadata": {},
   "outputs": [],
   "source": []
  },
  {
   "cell_type": "markdown",
   "id": "d633134d",
   "metadata": {},
   "source": [
    "4. Simula el modelo de Ising para una red hexagonal, es decir, cada vértice tiene 3 vecinos (y si dibujas la red, verás hexágonos). Para esto necesitas hacer 2 cambios importantes a lo visto en los videos: \n",
    "    \n",
    "    (i) Modificar la función que produce los vecinos. \n",
    "    (ii) Modificar la función que grafica para que cada nodo lo ponga como un hexágono de un color si el espín apunta hacia arriba y de otro si apunta hacia abajo. \n",
    "    \n",
    "    Revisa en particular los caso $J = -1/2$ y $J = 1/2$ y de este último obtén (haciendo un promedio de 5 casos nada más) la magnetización como función de la temperatura. "
   ]
  },
  {
   "cell_type": "code",
   "execution_count": null,
   "id": "54160736",
   "metadata": {},
   "outputs": [],
   "source": []
  }
 ],
 "metadata": {
  "kernelspec": {
   "display_name": "Julia 1.5.3",
   "language": "julia",
   "name": "julia-1.5"
  },
  "language_info": {
   "file_extension": ".jl",
   "mimetype": "application/julia",
   "name": "julia",
   "version": "1.5.3"
  },
  "toc": {
   "base_numbering": 1,
   "nav_menu": {},
   "number_sections": true,
   "sideBar": true,
   "skip_h1_title": false,
   "title_cell": "Table of Contents",
   "title_sidebar": "Contents",
   "toc_cell": false,
   "toc_position": {},
   "toc_section_display": true,
   "toc_window_display": false
  },
  "varInspector": {
   "cols": {
    "lenName": 16,
    "lenType": 16,
    "lenVar": 40
   },
   "kernels_config": {
    "python": {
     "delete_cmd_postfix": "",
     "delete_cmd_prefix": "del ",
     "library": "var_list.py",
     "varRefreshCmd": "print(var_dic_list())"
    },
    "r": {
     "delete_cmd_postfix": ") ",
     "delete_cmd_prefix": "rm(",
     "library": "var_list.r",
     "varRefreshCmd": "cat(var_dic_list()) "
    }
   },
   "types_to_exclude": [
    "module",
    "function",
    "builtin_function_or_method",
    "instance",
    "_Feature"
   ],
   "window_display": false
  }
 },
 "nbformat": 4,
 "nbformat_minor": 5
}
